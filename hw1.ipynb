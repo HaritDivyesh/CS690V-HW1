{
 "cells": [
  {
   "cell_type": "code",
   "execution_count": 1,
   "metadata": {
    "collapsed": true
   },
   "outputs": [],
   "source": [
    "#imports\n",
    "import pandas as pd\n",
    "import numpy as np\n",
    "from bokeh.io import output_notebook, show\n",
    "from bokeh.plotting import figure, ColumnDataSource\n",
    "from bokeh.models import HoverTool, Legend\n",
    "import warnings\n",
    "warnings.filterwarnings(\"ignore\", category=DeprecationWarning)"
   ]
  },
  {
   "cell_type": "code",
   "execution_count": 2,
   "metadata": {
    "collapsed": true
   },
   "outputs": [],
   "source": [
    "#Read all data; extract and format for the 3 countries\n",
    "df = pd.read_excel('hw1_cellphonedata.xlsx', sheetname='Data')\n",
    "total_years = np.delete(list(df), 0)\n",
    "countries = ['China', 'India', 'United States']\n",
    "china_total_data = df[df['Mobile cellular subscriptions, total number'] == \"China\"]\n",
    "china_cellphones = china_total_data.values[0][20:]\n",
    "india_total_data = df[df['Mobile cellular subscriptions, total number'] == \"India\"]\n",
    "india_cellphones = india_total_data.values[0][20:]\n",
    "usa_total_data = df[df['Mobile cellular subscriptions, total number'] == \"United States\"]\n",
    "usa_cellphones = usa_total_data.values[0][20:]\n",
    "years = total_years[:][19:] # 1984-2011"
   ]
  },
  {
   "cell_type": "code",
   "execution_count": 3,
   "metadata": {
    "collapsed": true
   },
   "outputs": [],
   "source": [
    "#Define data to hover\n",
    "china = np.full((len(china_cellphones),1), 'China', dtype='U25')\n",
    "source1 = ColumnDataSource(data=dict(\n",
    "    country = china,\n",
    "    cellphones = china_cellphones,\n",
    "    year = years,\n",
    "))\n",
    "\n",
    "india = np.full((len(india_cellphones),1), 'India', dtype='U25')\n",
    "source2 = ColumnDataSource(data=dict(\n",
    "    country = india,\n",
    "    cellphones = india_cellphones,\n",
    "    year = years,\n",
    "))\n",
    "\n",
    "usa = np.full((len(usa_cellphones),1), 'USA', dtype='U25')\n",
    "source3 = ColumnDataSource(data=dict(\n",
    "    country = usa,\n",
    "    cellphones = usa_cellphones,\n",
    "    year = years,\n",
    "))\n",
    "\n",
    "hover = HoverTool(tooltips=[\n",
    "    (\"country\", \"@country\"),\n",
    "    (\"cell phones\", \"@cellphones\"),\n",
    "    (\"year\", \"@year\"),\n",
    "    ],\n",
    "    mode='vline')"
   ]
  },
  {
   "cell_type": "code",
   "execution_count": 4,
   "metadata": {
    "collapsed": true
   },
   "outputs": [],
   "source": [
    "#Plot the figure and the 3 line plots\n",
    "p = figure(plot_width=800, plot_height=700, title=\"Total cell phones of countries over the years\",\n",
    "           tools=[hover, \"pan,wheel_zoom,box_zoom,reset\"])\n",
    "p.left[0].formatter.use_scientific = False\n",
    "p1 = p.line(years, china_cellphones, line_width=2, line_color=\"blue\", source=source1)\n",
    "p2 = p.line(years, india_cellphones, line_width=2, line_color=\"red\", source=source2)\n",
    "p3 = p.line(years, usa_cellphones, line_width=2, line_color=\"green\", source=source3)"
   ]
  },
  {
   "cell_type": "code",
   "execution_count": 5,
   "metadata": {
    "collapsed": true
   },
   "outputs": [],
   "source": [
    "#Define the legend\n",
    "legend = Legend(items=[\n",
    "    (\"China\",   [p1]),\n",
    "    (\"India\", [p2]),\n",
    "    (\"USA\", [p3])\n",
    "], location=(-500, 550))\n",
    "p.add_layout(legend, 'right')"
   ]
  },
  {
   "cell_type": "code",
   "execution_count": 6,
   "metadata": {
    "collapsed": true
   },
   "outputs": [],
   "source": [
    "#Show the figure\n",
    "show(p)"
   ]
  }
 ],
 "metadata": {
  "kernelspec": {
   "display_name": "Python 3",
   "language": "python",
   "name": "python3"
  },
  "language_info": {
   "codemirror_mode": {
    "name": "ipython",
    "version": 3
   },
   "file_extension": ".py",
   "mimetype": "text/x-python",
   "name": "python",
   "nbconvert_exporter": "python",
   "pygments_lexer": "ipython3",
   "version": "3.6.1"
  }
 },
 "nbformat": 4,
 "nbformat_minor": 2
}
